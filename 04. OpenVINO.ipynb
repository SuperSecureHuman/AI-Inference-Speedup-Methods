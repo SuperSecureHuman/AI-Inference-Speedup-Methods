{
 "cells": [
  {
   "cell_type": "code",
   "execution_count": 2,
   "metadata": {},
   "outputs": [
    {
     "ename": "AttributeError",
     "evalue": "'str' object has no attribute 'parent'",
     "output_type": "error",
     "traceback": [
      "\u001b[0;31m---------------------------------------------------------------------------\u001b[0m",
      "\u001b[0;31mAttributeError\u001b[0m                            Traceback (most recent call last)",
      "\u001b[1;32m/home/venom/repo/optmizing_model_speed/04. OpenVINO.ipynb Cell 1\u001b[0m in \u001b[0;36m<cell line: 4>\u001b[0;34m()\u001b[0m\n\u001b[1;32m      <a href='vscode-notebook-cell:/home/venom/repo/optmizing_model_speed/04.%20OpenVINO.ipynb#W0sZmlsZQ%3D%3D?line=1'>2</a>\u001b[0m onnx_path \u001b[39m=\u001b[39m \u001b[39m\"\u001b[39m\u001b[39m./out.onnx\u001b[39m\u001b[39m\"\u001b[39m\n\u001b[1;32m      <a href='vscode-notebook-cell:/home/venom/repo/optmizing_model_speed/04.%20OpenVINO.ipynb#W0sZmlsZQ%3D%3D?line=2'>3</a>\u001b[0m model_path \u001b[39m=\u001b[39m \u001b[39m\"\u001b[39m\u001b[39m./out\u001b[39m\u001b[39m\"\u001b[39m\n\u001b[1;32m      <a href='vscode-notebook-cell:/home/venom/repo/optmizing_model_speed/04.%20OpenVINO.ipynb#W0sZmlsZQ%3D%3D?line=3'>4</a>\u001b[0m mo_command \u001b[39m=\u001b[39m \u001b[39mf\u001b[39m\u001b[39m\"\"\"\u001b[39m\u001b[39mmo\u001b[39m\n\u001b[1;32m      <a href='vscode-notebook-cell:/home/venom/repo/optmizing_model_speed/04.%20OpenVINO.ipynb#W0sZmlsZQ%3D%3D?line=4'>5</a>\u001b[0m \u001b[39m                 --input_model \u001b[39m\u001b[39m\"\u001b[39m\u001b[39m{\u001b[39;00monnx_path\u001b[39m}\u001b[39;00m\u001b[39m\"\u001b[39m\n\u001b[1;32m      <a href='vscode-notebook-cell:/home/venom/repo/optmizing_model_speed/04.%20OpenVINO.ipynb#W0sZmlsZQ%3D%3D?line=5'>6</a>\u001b[0m \u001b[39m                 --input_shape \u001b[39m\u001b[39m\"\u001b[39m\u001b[39m[1,3, \u001b[39m\u001b[39m{\u001b[39;00m\u001b[39m299\u001b[39m\u001b[39m}\u001b[39;00m\u001b[39m, \u001b[39m\u001b[39m{\u001b[39;00m\u001b[39m299\u001b[39m\u001b[39m}\u001b[39;00m\u001b[39m]\u001b[39m\u001b[39m\"\u001b[39m\n\u001b[1;32m      <a href='vscode-notebook-cell:/home/venom/repo/optmizing_model_speed/04.%20OpenVINO.ipynb#W0sZmlsZQ%3D%3D?line=6'>7</a>\u001b[0m \u001b[39m                 --mean_values=\u001b[39m\u001b[39m\"\u001b[39m\u001b[39m[123.675, 116.28 , 103.53]\u001b[39m\u001b[39m\"\u001b[39m\n\u001b[1;32m      <a href='vscode-notebook-cell:/home/venom/repo/optmizing_model_speed/04.%20OpenVINO.ipynb#W0sZmlsZQ%3D%3D?line=7'>8</a>\u001b[0m \u001b[39m                 --scale_values=\u001b[39m\u001b[39m\"\u001b[39m\u001b[39m[58.395, 57.12 , 57.375]\u001b[39m\u001b[39m\"\u001b[39m\n\u001b[1;32m      <a href='vscode-notebook-cell:/home/venom/repo/optmizing_model_speed/04.%20OpenVINO.ipynb#W0sZmlsZQ%3D%3D?line=8'>9</a>\u001b[0m \u001b[39m                 --data_type FP16\u001b[39m\n\u001b[0;32m---> <a href='vscode-notebook-cell:/home/venom/repo/optmizing_model_speed/04.%20OpenVINO.ipynb#W0sZmlsZQ%3D%3D?line=9'>10</a>\u001b[0m \u001b[39m                 --output_dir \u001b[39m\u001b[39m\"\u001b[39m\u001b[39m{\u001b[39;00mmodel_path\u001b[39m.\u001b[39mparent\u001b[39m}\u001b[39;00m\u001b[39m\"\u001b[39m\n\u001b[1;32m     <a href='vscode-notebook-cell:/home/venom/repo/optmizing_model_speed/04.%20OpenVINO.ipynb#W0sZmlsZQ%3D%3D?line=10'>11</a>\u001b[0m \u001b[39m                 \u001b[39m\u001b[39m\"\"\"\u001b[39m\n\u001b[1;32m     <a href='vscode-notebook-cell:/home/venom/repo/optmizing_model_speed/04.%20OpenVINO.ipynb#W0sZmlsZQ%3D%3D?line=11'>12</a>\u001b[0m mo_command \u001b[39m=\u001b[39m \u001b[39m\"\u001b[39m\u001b[39m \u001b[39m\u001b[39m\"\u001b[39m\u001b[39m.\u001b[39mjoin(mo_command\u001b[39m.\u001b[39msplit())\n\u001b[1;32m     <a href='vscode-notebook-cell:/home/venom/repo/optmizing_model_speed/04.%20OpenVINO.ipynb#W0sZmlsZQ%3D%3D?line=12'>13</a>\u001b[0m \u001b[39mprint\u001b[39m(\u001b[39m\"\u001b[39m\u001b[39mModel Optimizer command to convert the ONNX model to OpenVINO:\u001b[39m\u001b[39m\"\u001b[39m)\n",
      "\u001b[0;31mAttributeError\u001b[0m: 'str' object has no attribute 'parent'"
     ]
    }
   ],
   "source": []
  },
  {
   "cell_type": "code",
   "execution_count": null,
   "metadata": {},
   "outputs": [],
   "source": []
  }
 ],
 "metadata": {
  "kernelspec": {
   "display_name": "Python 3.10.4 ('intel')",
   "language": "python",
   "name": "python3"
  },
  "language_info": {
   "codemirror_mode": {
    "name": "ipython",
    "version": 3
   },
   "file_extension": ".py",
   "mimetype": "text/x-python",
   "name": "python",
   "nbconvert_exporter": "python",
   "pygments_lexer": "ipython3",
   "version": "3.9.12"
  },
  "orig_nbformat": 4,
  "vscode": {
   "interpreter": {
    "hash": "d93764cde985703a4731088a852833291f57996f9db9de784062027409ad7325"
   }
  }
 },
 "nbformat": 4,
 "nbformat_minor": 2
}
